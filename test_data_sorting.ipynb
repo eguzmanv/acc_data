{
 "cells": [
  {
   "cell_type": "code",
   "execution_count": 1,
   "metadata": {},
   "outputs": [],
   "source": [
    "import os\n",
    "import shutil\n",
    "import glob\n",
    "\n",
    "from pathlib import Path\n",
    "\n",
    "from obspy import UTCDateTime"
   ]
  },
  {
   "cell_type": "markdown",
   "metadata": {},
   "source": [
    "# Initial parameters"
   ]
  },
  {
   "cell_type": "code",
   "execution_count": 2,
   "metadata": {},
   "outputs": [
    {
     "data": {
      "text/plain": [
       "('/home/eguzman/eguzmanv/acc_data/test_compartida/DATOS-X-DESCARGA/LISTAS',\n",
       " '/home/eguzman/eguzmanv/acc_data/test_electronica/ESTACIONES_RNAC_POR_DESCARGA')"
      ]
     },
     "execution_count": 2,
     "metadata": {},
     "output_type": "execute_result"
    }
   ],
   "source": [
    "# Path parameters\n",
    "    # Data input path\n",
    "input_folder = os.path.join(os.path.dirname(os.getcwd()), 'test_compartida', 'DATOS-X-DESCARGA', 'LISTAS')\n",
    "    # Data output path\n",
    "output_folder = os.path.join(os.path.dirname(os.getcwd()), 'test_electronica', 'ESTACIONES_RNAC_POR_DESCARGA')\n",
    "\n",
    "input_folder, output_folder"
   ]
  },
  {
   "cell_type": "markdown",
   "metadata": {},
   "source": [
    "# 1. input_folder info"
   ]
  },
  {
   "cell_type": "markdown",
   "metadata": {},
   "source": [
    "test with '/home/eguzman/eguzmanv/acc_data/test_compartida/DATOS-X-DESCARGA/LISTAS/CPLA1/'"
   ]
  },
  {
   "cell_type": "code",
   "execution_count": 12,
   "metadata": {},
   "outputs": [
    {
     "name": "stdout",
     "output_type": "stream",
     "text": [
      "input_sta_paths:\n",
      "['/home/eguzman/eguzmanv/acc_data/test_compartida/DATOS-X-DESCARGA/LISTAS/CCUC3', '/home/eguzman/eguzmanv/acc_data/test_compartida/DATOS-X-DESCARGA/LISTAS/CPLA1', '/home/eguzman/eguzmanv/acc_data/test_compartida/DATOS-X-DESCARGA/LISTAS/CSLUI', '/home/eguzman/eguzmanv/acc_data/test_compartida/DATOS-X-DESCARGA/LISTAS/CSONS']\n",
      "\n",
      "   input_sta_list: \n",
      "['CCUC3', 'CPLA1', 'CSLUI', 'CSONS']\n",
      "\n",
      "   input_delivery_dates_paths: \n",
      "['/home/eguzman/eguzmanv/acc_data/test_compartida/DATOS-X-DESCARGA/LISTAS/CPLA1/20170405', '/home/eguzman/eguzmanv/acc_data/test_compartida/DATOS-X-DESCARGA/LISTAS/CPLA1/20171012', '/home/eguzman/eguzmanv/acc_data/test_compartida/DATOS-X-DESCARGA/LISTAS/CPLA1/20180425', '/home/eguzman/eguzmanv/acc_data/test_compartida/DATOS-X-DESCARGA/LISTAS/CPLA1/20181028', '/home/eguzman/eguzmanv/acc_data/test_compartida/DATOS-X-DESCARGA/LISTAS/CPLA1/20190622']\n",
      "\n",
      "   Delivery dates: \n",
      "['20170405', '20171012', '20180425', '20181028', '20190622']\n",
      "\n",
      "output_sta_paths\n",
      "['/home/eguzman/eguzmanv/acc_data/test_electronica/ESTACIONES_RNAC_POR_DESCARGA/RED_ANTIOQUIA/CPLA1', '/home/eguzman/eguzmanv/acc_data/test_electronica/ESTACIONES_RNAC_POR_DESCARGA/RED_ANTIOQUIA/CSLUI', '/home/eguzman/eguzmanv/acc_data/test_electronica/ESTACIONES_RNAC_POR_DESCARGA/RED_ANTIOQUIA/CSONS', '/home/eguzman/eguzmanv/acc_data/test_electronica/ESTACIONES_RNAC_POR_DESCARGA/RED_HUILA/CBETA']\n",
      "\n",
      "output_sta_list: \n",
      "['CPLA1', 'CSLUI', 'CSONS', 'CBETA']\n"
     ]
    }
   ],
   "source": [
    "# Input sta paths\n",
    "input_sta_paths = sorted(glob.glob(os.path.join(input_folder, '*')))\n",
    "print('input_sta_paths:')\n",
    "print(input_sta_paths)\n",
    "    \n",
    "    # Input sta codes\n",
    "input_sta_list = [dir.split(os.sep)[-1] for dir in input_sta_paths]\n",
    "print('\\n   input_sta_list: ')\n",
    "print(input_sta_list)\n",
    "\n",
    "    # Input delivery date paths (for a single sta code)\n",
    "sta = 'CPLA1'\n",
    "input_delivery_dates_paths = sorted(glob.glob(os.path.join(input_folder, sta, '*')))\n",
    "print('\\n   input_delivery_dates_paths: ')\n",
    "print(input_delivery_dates_paths)\n",
    "\n",
    "    # Delivery dates\n",
    "input_delivery_dates = [d_date.split(os.sep)[-1] for d_date in input_delivery_dates_paths]\n",
    "print('\\n   Delivery dates: ')\n",
    "print(input_delivery_dates)"
   ]
  },
  {
   "cell_type": "markdown",
   "metadata": {},
   "source": [
    "## 1.1 Find input file paths"
   ]
  },
  {
   "cell_type": "code",
   "execution_count": 8,
   "metadata": {},
   "outputs": [
    {
     "data": {
      "text/plain": [
       "['/home/eguzman/eguzmanv/acc_data/test_compartida/DATOS-X-DESCARGA/LISTAS/CPLA1/20170405/20170405_CPLA1.txt',\n",
       " '/home/eguzman/eguzmanv/acc_data/test_compartida/DATOS-X-DESCARGA/LISTAS/CPLA1/20170405/001EVT.txt',\n",
       " '/home/eguzman/eguzmanv/acc_data/test_compartida/DATOS-X-DESCARGA/LISTAS/CPLA1/20170405/20170405_CPLA1_revLFCG.txt',\n",
       " '/home/eguzman/eguzmanv/acc_data/test_compartida/DATOS-X-DESCARGA/LISTAS/CPLA1/20170405/test',\n",
       " '/home/eguzman/eguzmanv/acc_data/test_compartida/DATOS-X-DESCARGA/LISTAS/CPLA1/20170405/EVT/001EVT.txt',\n",
       " '/home/eguzman/eguzmanv/acc_data/test_compartida/DATOS-X-DESCARGA/LISTAS/CPLA1/20170405/EVT/002EVT.txt']"
      ]
     },
     "execution_count": 8,
     "metadata": {},
     "output_type": "execute_result"
    }
   ],
   "source": [
    "input_files_paths = []\n",
    "\n",
    "# Loop: find files\n",
    "\n",
    "for path, dirs, files in os.walk(input_delivery_dates_paths[0]):\n",
    "    for i in files:\n",
    "        input_files_paths.append(os.path.join(path, i))\n",
    "\n",
    "input_files_paths"
   ]
  },
  {
   "cell_type": "markdown",
   "metadata": {},
   "source": [
    "### 1.1.2 Filter input file paths by extension ['.doc', '.docx', '.pdf', ...]"
   ]
  },
  {
   "cell_type": "code",
   "execution_count": 11,
   "metadata": {},
   "outputs": [
    {
     "data": {
      "text/plain": [
       "['/home/eguzman/eguzmanv/acc_data/test_compartida/DATOS-X-DESCARGA/LISTAS/CPLA1/20170405/20170405_CPLA1.txt',\n",
       " '/home/eguzman/eguzmanv/acc_data/test_compartida/DATOS-X-DESCARGA/LISTAS/CPLA1/20170405/001EVT.txt',\n",
       " '/home/eguzman/eguzmanv/acc_data/test_compartida/DATOS-X-DESCARGA/LISTAS/CPLA1/20170405/20170405_CPLA1_revLFCG.txt',\n",
       " '/home/eguzman/eguzmanv/acc_data/test_compartida/DATOS-X-DESCARGA/LISTAS/CPLA1/20170405/EVT/001EVT.txt',\n",
       " '/home/eguzman/eguzmanv/acc_data/test_compartida/DATOS-X-DESCARGA/LISTAS/CPLA1/20170405/EVT/002EVT.txt']"
      ]
     },
     "execution_count": 11,
     "metadata": {},
     "output_type": "execute_result"
    }
   ],
   "source": [
    "input_files_paths_filtered = [i for i in input_files_paths if Path(i).suffix in ['.txt']]\n",
    "input_files_paths_filtered"
   ]
  },
  {
   "cell_type": "markdown",
   "metadata": {},
   "source": [
    "### 1.1.3 Find the mainteance date"
   ]
  },
  {
   "cell_type": "code",
   "execution_count": 34,
   "metadata": {},
   "outputs": [
    {
     "data": {
      "text/plain": [
       "[20170405]"
      ]
     },
     "execution_count": 34,
     "metadata": {},
     "output_type": "execute_result"
    }
   ],
   "source": [
    "input_mainteance_date_list = []\n",
    "for i in input_files_paths_filtered:\n",
    "    \n",
    "    try:\n",
    "        input_mainteance_date_list.append(int(i.split(os.sep)[-1][:8]))\n",
    "    except:\n",
    "        continue\n",
    "\n",
    "input_mainteance_date_list = list(set(input_mainteance_date_list))\n",
    "input_mainteance_date_list"
   ]
  },
  {
   "cell_type": "code",
   "execution_count": 35,
   "metadata": {},
   "outputs": [],
   "source": [
    "for date in input_mainteance_date_list:\n",
    "    try:\n",
    "        UTCDateTime(date)\n",
    "        input_mainteance_date = str(date)\n",
    "    except:\n",
    "        continue"
   ]
  },
  {
   "cell_type": "code",
   "execution_count": 37,
   "metadata": {},
   "outputs": [
    {
     "data": {
      "text/plain": [
       "'20170405'"
      ]
     },
     "execution_count": 37,
     "metadata": {},
     "output_type": "execute_result"
    }
   ],
   "source": [
    "input_mainteance_date"
   ]
  },
  {
   "cell_type": "markdown",
   "metadata": {},
   "source": [
    "# 2. Output folder"
   ]
  },
  {
   "cell_type": "code",
   "execution_count": 82,
   "metadata": {},
   "outputs": [
    {
     "name": "stdout",
     "output_type": "stream",
     "text": [
      "\n",
      "output_sta_paths\n",
      "['/home/eguzman/eguzmanv/acc_data/test_electronica/ESTACIONES_RNAC_POR_DESCARGA/RED_ANTIOQUIA/CPLA1', '/home/eguzman/eguzmanv/acc_data/test_electronica/ESTACIONES_RNAC_POR_DESCARGA/RED_ANTIOQUIA/CSLUI', '/home/eguzman/eguzmanv/acc_data/test_electronica/ESTACIONES_RNAC_POR_DESCARGA/RED_ANTIOQUIA/CSONS', '/home/eguzman/eguzmanv/acc_data/test_electronica/ESTACIONES_RNAC_POR_DESCARGA/RED_HUILA/CBETA']\n",
      "\n",
      "output_sta_list: \n",
      "['CPLA1', 'CSLUI', 'CSONS', 'CBETA']\n"
     ]
    }
   ],
   "source": [
    "# Output sta paths\n",
    "output_sta_paths = sorted(glob.glob(os.path.join(output_folder, '*', '*')))\n",
    "print('\\noutput_sta_paths')\n",
    "print(output_sta_paths)\n",
    "\n",
    "    # Output sta codes\n",
    "output_sta_list = [i.split(os.sep)[-1] for i in output_sta_paths]\n",
    "print('\\noutput_sta_list: ')\n",
    "print(output_sta_list)"
   ]
  },
  {
   "cell_type": "code",
   "execution_count": 83,
   "metadata": {},
   "outputs": [
    {
     "data": {
      "text/plain": [
       "'/home/eguzman/eguzmanv/acc_data/test_electronica/ESTACIONES_RNAC_POR_DESCARGA'"
      ]
     },
     "execution_count": 83,
     "metadata": {},
     "output_type": "execute_result"
    }
   ],
   "source": [
    "output_folder"
   ]
  },
  {
   "cell_type": "code",
   "execution_count": 84,
   "metadata": {},
   "outputs": [],
   "source": [
    "sta = 'CPLA1'"
   ]
  },
  {
   "cell_type": "code",
   "execution_count": 85,
   "metadata": {},
   "outputs": [
    {
     "data": {
      "text/plain": [
       "'/home/eguzman/eguzmanv/acc_data/test_electronica/ESTACIONES_RNAC_POR_DESCARGA/RED_ANTIOQUIA/CPLA1'"
      ]
     },
     "execution_count": 85,
     "metadata": {},
     "output_type": "execute_result"
    }
   ],
   "source": [
    "try:\n",
    "    output_sta_path = glob.glob(os.path.join(output_folder, '*', sta))[0]\n",
    "except:\n",
    "    output_sta_path = os.path.join(output_folder, 'OTRAS_REDES', sta)\n",
    "    \n",
    "    if not os.path.isdir(output_sta_path):\n",
    "        os.makedirs(output_sta_path)\n",
    "\n",
    "output_sta_path"
   ]
  },
  {
   "cell_type": "code",
   "execution_count": 86,
   "metadata": {},
   "outputs": [],
   "source": [
    "delivery_dates_paths_covered = []\n",
    "# Create dir (if it does not exist)\n",
    "if not os.path.isdir(os.path.join(output_sta_path, input_mainteance_date)):\n",
    "    os.makedirs(os.path.join(output_sta_path, input_mainteance_date))\n",
    "\n",
    "    shutil.copytree(input_delivery_dates_paths[0], \n",
    "                    os.path.join(output_sta_path, input_mainteance_date), \n",
    "                    dirs_exist_ok = True)\n",
    "    delivery_dates_paths_covered.append(input_delivery_dates_paths[0])\n",
    "\n",
    "else:\n",
    "    if not os.path.isdir(os.path.join(output_sta_path, input_mainteance_date, input_mainteance_date + '_copy')):\n",
    "        os.makedirs(os.path.join(output_sta_path, input_mainteance_date, input_mainteance_date + '_copy'))\n",
    "        shutil.copytree(input_delivery_dates_paths[0], \n",
    "                        os.path.join(output_sta_path, input_mainteance_date, input_mainteance_date + '_copy'), \n",
    "                        dirs_exist_ok = True)"
   ]
  },
  {
   "cell_type": "code",
   "execution_count": 77,
   "metadata": {},
   "outputs": [
    {
     "name": "stdout",
     "output_type": "stream",
     "text": [
      "\n",
      "Delivert dates paths covered: \n",
      "['/home/eguzman/eguzmanv/acc_data/test_compartida/DATOS-X-DESCARGA/LISTAS/CPLA1/20170405']\n",
      "\n",
      "Delivery dates paths not covered\n",
      "['/home/eguzman/eguzmanv/acc_data/test_compartida/DATOS-X-DESCARGA/LISTAS/CPLA1/20171012', '/home/eguzman/eguzmanv/acc_data/test_compartida/DATOS-X-DESCARGA/LISTAS/CPLA1/20180425', '/home/eguzman/eguzmanv/acc_data/test_compartida/DATOS-X-DESCARGA/LISTAS/CPLA1/20181028', '/home/eguzman/eguzmanv/acc_data/test_compartida/DATOS-X-DESCARGA/LISTAS/CPLA1/20190622']\n"
     ]
    }
   ],
   "source": [
    "print('\\nDelivert dates paths covered: ')\n",
    "print(delivery_dates_paths_covered)\n",
    "\n",
    "delivery_dates_paths_not_covered = sorted(list(set(input_delivery_dates_paths) - set(delivery_dates_paths_covered)))\n",
    "print('\\nDelivery dates paths not covered')\n",
    "print(delivery_dates_paths_not_covered)"
   ]
  },
  {
   "cell_type": "code",
   "execution_count": 56,
   "metadata": {},
   "outputs": [
    {
     "data": {
      "text/plain": [
       "'/home/eguzman/eguzmanv/acc_data/test_electronica/ESTACIONES_RNAC_POR_DESCARGA/*/sta'"
      ]
     },
     "execution_count": 56,
     "metadata": {},
     "output_type": "execute_result"
    }
   ],
   "source": [
    "os.path.join(output_folder, '*', 'sta')"
   ]
  },
  {
   "cell_type": "code",
   "execution_count": null,
   "metadata": {},
   "outputs": [],
   "source": []
  }
 ],
 "metadata": {
  "interpreter": {
   "hash": "7d2338b40119fe42838c4365903ef643bc601565b5cc1701e5983b488c814dbf"
  },
  "kernelspec": {
   "display_name": "Python 3.9.6 ('obspy')",
   "language": "python",
   "name": "python3"
  },
  "language_info": {
   "codemirror_mode": {
    "name": "ipython",
    "version": 3
   },
   "file_extension": ".py",
   "mimetype": "text/x-python",
   "name": "python",
   "nbconvert_exporter": "python",
   "pygments_lexer": "ipython3",
   "version": "3.9.6"
  },
  "orig_nbformat": 4
 },
 "nbformat": 4,
 "nbformat_minor": 2
}
